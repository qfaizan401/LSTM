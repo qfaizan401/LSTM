{
 "cells": [
  {
   "cell_type": "code",
   "execution_count": 2,
   "metadata": {},
   "outputs": [],
   "source": [
    "import numpy as np\n",
    "import pandas as pd\n",
    "import os"
   ]
  },
  {
   "cell_type": "code",
   "execution_count": 3,
   "metadata": {},
   "outputs": [
    {
     "data": {
      "text/html": [
       "<div>\n",
       "<style scoped>\n",
       "    .dataframe tbody tr th:only-of-type {\n",
       "        vertical-align: middle;\n",
       "    }\n",
       "\n",
       "    .dataframe tbody tr th {\n",
       "        vertical-align: top;\n",
       "    }\n",
       "\n",
       "    .dataframe thead th {\n",
       "        text-align: right;\n",
       "    }\n",
       "</style>\n",
       "<table border=\"1\" class=\"dataframe\">\n",
       "  <thead>\n",
       "    <tr style=\"text-align: right;\">\n",
       "      <th></th>\n",
       "      <th>Date</th>\n",
       "      <th>Open</th>\n",
       "      <th>High</th>\n",
       "      <th>Low</th>\n",
       "      <th>Close</th>\n",
       "      <th>Volume</th>\n",
       "      <th>OpenInt</th>\n",
       "    </tr>\n",
       "  </thead>\n",
       "  <tbody>\n",
       "    <tr>\n",
       "      <th>0</th>\n",
       "      <td>1962-01-02</td>\n",
       "      <td>0.6277</td>\n",
       "      <td>0.6362</td>\n",
       "      <td>0.6201</td>\n",
       "      <td>0.6201</td>\n",
       "      <td>2575579</td>\n",
       "      <td>0</td>\n",
       "    </tr>\n",
       "    <tr>\n",
       "      <th>1</th>\n",
       "      <td>1962-01-03</td>\n",
       "      <td>0.6201</td>\n",
       "      <td>0.6201</td>\n",
       "      <td>0.6122</td>\n",
       "      <td>0.6201</td>\n",
       "      <td>1764749</td>\n",
       "      <td>0</td>\n",
       "    </tr>\n",
       "    <tr>\n",
       "      <th>2</th>\n",
       "      <td>1962-01-04</td>\n",
       "      <td>0.6201</td>\n",
       "      <td>0.6201</td>\n",
       "      <td>0.6037</td>\n",
       "      <td>0.6122</td>\n",
       "      <td>2194010</td>\n",
       "      <td>0</td>\n",
       "    </tr>\n",
       "    <tr>\n",
       "      <th>3</th>\n",
       "      <td>1962-01-05</td>\n",
       "      <td>0.6122</td>\n",
       "      <td>0.6122</td>\n",
       "      <td>0.5798</td>\n",
       "      <td>0.5957</td>\n",
       "      <td>3255244</td>\n",
       "      <td>0</td>\n",
       "    </tr>\n",
       "    <tr>\n",
       "      <th>4</th>\n",
       "      <td>1962-01-08</td>\n",
       "      <td>0.5957</td>\n",
       "      <td>0.5957</td>\n",
       "      <td>0.5716</td>\n",
       "      <td>0.5957</td>\n",
       "      <td>3696430</td>\n",
       "      <td>0</td>\n",
       "    </tr>\n",
       "    <tr>\n",
       "      <th>...</th>\n",
       "      <td>...</td>\n",
       "      <td>...</td>\n",
       "      <td>...</td>\n",
       "      <td>...</td>\n",
       "      <td>...</td>\n",
       "      <td>...</td>\n",
       "      <td>...</td>\n",
       "    </tr>\n",
       "    <tr>\n",
       "      <th>14053</th>\n",
       "      <td>2017-11-06</td>\n",
       "      <td>20.5200</td>\n",
       "      <td>20.5300</td>\n",
       "      <td>20.0800</td>\n",
       "      <td>20.1300</td>\n",
       "      <td>60641787</td>\n",
       "      <td>0</td>\n",
       "    </tr>\n",
       "    <tr>\n",
       "      <th>14054</th>\n",
       "      <td>2017-11-07</td>\n",
       "      <td>20.1700</td>\n",
       "      <td>20.2500</td>\n",
       "      <td>20.1200</td>\n",
       "      <td>20.2100</td>\n",
       "      <td>41622851</td>\n",
       "      <td>0</td>\n",
       "    </tr>\n",
       "    <tr>\n",
       "      <th>14055</th>\n",
       "      <td>2017-11-08</td>\n",
       "      <td>20.2100</td>\n",
       "      <td>20.3200</td>\n",
       "      <td>20.0700</td>\n",
       "      <td>20.1200</td>\n",
       "      <td>39672190</td>\n",
       "      <td>0</td>\n",
       "    </tr>\n",
       "    <tr>\n",
       "      <th>14056</th>\n",
       "      <td>2017-11-09</td>\n",
       "      <td>20.0400</td>\n",
       "      <td>20.0710</td>\n",
       "      <td>19.8500</td>\n",
       "      <td>19.9900</td>\n",
       "      <td>50831779</td>\n",
       "      <td>0</td>\n",
       "    </tr>\n",
       "    <tr>\n",
       "      <th>14057</th>\n",
       "      <td>2017-11-10</td>\n",
       "      <td>19.9800</td>\n",
       "      <td>20.6800</td>\n",
       "      <td>19.9000</td>\n",
       "      <td>20.4900</td>\n",
       "      <td>100698474</td>\n",
       "      <td>0</td>\n",
       "    </tr>\n",
       "  </tbody>\n",
       "</table>\n",
       "<p>14058 rows × 7 columns</p>\n",
       "</div>"
      ],
      "text/plain": [
       "             Date     Open     High      Low    Close     Volume  OpenInt\n",
       "0      1962-01-02   0.6277   0.6362   0.6201   0.6201    2575579        0\n",
       "1      1962-01-03   0.6201   0.6201   0.6122   0.6201    1764749        0\n",
       "2      1962-01-04   0.6201   0.6201   0.6037   0.6122    2194010        0\n",
       "3      1962-01-05   0.6122   0.6122   0.5798   0.5957    3255244        0\n",
       "4      1962-01-08   0.5957   0.5957   0.5716   0.5957    3696430        0\n",
       "...           ...      ...      ...      ...      ...        ...      ...\n",
       "14053  2017-11-06  20.5200  20.5300  20.0800  20.1300   60641787        0\n",
       "14054  2017-11-07  20.1700  20.2500  20.1200  20.2100   41622851        0\n",
       "14055  2017-11-08  20.2100  20.3200  20.0700  20.1200   39672190        0\n",
       "14056  2017-11-09  20.0400  20.0710  19.8500  19.9900   50831779        0\n",
       "14057  2017-11-10  19.9800  20.6800  19.9000  20.4900  100698474        0\n",
       "\n",
       "[14058 rows x 7 columns]"
      ]
     },
     "execution_count": 3,
     "metadata": {},
     "output_type": "execute_result"
    }
   ],
   "source": [
    "df = pd.read_csv(os.path.join('/home/muhammadfaizan/Faizan/AXIOM/working with LSTM/ge-stock/','ge.us.txt'),engine='python')\n",
    "df"
   ]
  },
  {
   "cell_type": "code",
   "execution_count": 7,
   "metadata": {},
   "outputs": [],
   "source": [
    "dataset = (df.drop(columns=['Date','OpenInt']))"
   ]
  },
  {
   "cell_type": "code",
   "execution_count": 12,
   "metadata": {},
   "outputs": [],
   "source": [
    "def Normalizing_the_dataset (dataset,train_size):\n",
    "    x_train = []\n",
    "    x_test = []\n",
    "    \n",
    "    split_data = np.random.rand(len(dataset)) < train_size\n",
    "    train_data = dataset[split_data]\n",
    "    test_data = dataset[~split_data]\n",
    "    \n",
    "    train_data = np.array(train_data,dtype='float32')\n",
    "    test_data = np.array(test_data,dtype='float32')\n",
    "    \n",
    "    r_train,c_train = train_data.shape\n",
    "    r_test,c_test = test_data.shape\n",
    "    \n",
    "    for i in range(1,c_train+1):\n",
    "        x_train.append(train_data[:,i-1:i]/train_data[:,i-1:i].max())\n",
    "    x_train = np.array(x_train)\n",
    "        \n",
    "    for j in range (1,c_test+1):\n",
    "        x_test.append(test_data[:,i-1:i]/test_data[:,i-1:i].max())\n",
    "    x_test = np.array(x_test)\n",
    "        \n",
    "    x_train = np.reshape(x_train,(r_train,c_train))\n",
    "    x_test = np.reshape(x_test,(r_test,c_test))\n",
    "    \n",
    "    return(x_train,x_test)"
   ]
  },
  {
   "cell_type": "code",
   "execution_count": 13,
   "metadata": {},
   "outputs": [],
   "source": [
    "train_data,test_data = Normalizing_the_dataset(dataset,train_size=0.7)"
   ]
  },
  {
   "cell_type": "code",
   "execution_count": 14,
   "metadata": {},
   "outputs": [
    {
     "data": {
      "text/plain": [
       "array([[0.01298612, 0.01282067, 0.01247513, 0.01247513, 0.01247513],\n",
       "       [0.01247513, 0.01247513, 0.01264267, 0.01230969, 0.01264267],\n",
       "       [0.01264267, 0.01230969, 0.01264267, 0.01247513, 0.01264267],\n",
       "       ...,\n",
       "       [0.04352771, 0.08664873, 0.08684395, 0.03736825, 0.08052373],\n",
       "       [0.20037647, 0.14256583, 0.09158378, 0.10537156, 0.10485569],\n",
       "       [0.09813176, 0.07260869, 0.04453855, 0.04245125, 0.05439257]],\n",
       "      dtype=float32)"
      ]
     },
     "execution_count": 14,
     "metadata": {},
     "output_type": "execute_result"
    }
   ],
   "source": [
    "train_data"
   ]
  },
  {
   "cell_type": "code",
   "execution_count": 15,
   "metadata": {},
   "outputs": [
    {
     "data": {
      "text/plain": [
       "array([[0.00466363, 0.00319545, 0.00669317, 0.00351931, 0.00287159],\n",
       "       [0.00220226, 0.00326022, 0.00177045, 0.0026125 , 0.00349772],\n",
       "       [0.00272045, 0.00200795, 0.00358409, 0.00382158, 0.00408068],\n",
       "       ...,\n",
       "       [0.12048183, 0.09500121, 0.06095733, 0.05814447, 0.25390965],\n",
       "       [0.10930332, 0.07308212, 0.09003063, 0.10530105, 0.34786713],\n",
       "       [0.19991487, 0.17813227, 0.14762469, 0.10980479, 0.1823359 ]],\n",
       "      dtype=float32)"
      ]
     },
     "execution_count": 15,
     "metadata": {},
     "output_type": "execute_result"
    }
   ],
   "source": [
    "test_data"
   ]
  },
  {
   "cell_type": "code",
   "execution_count": null,
   "metadata": {},
   "outputs": [],
   "source": []
  }
 ],
 "metadata": {
  "kernelspec": {
   "display_name": "Python 3",
   "language": "python",
   "name": "python3"
  },
  "language_info": {
   "codemirror_mode": {
    "name": "ipython",
    "version": 3
   },
   "file_extension": ".py",
   "mimetype": "text/x-python",
   "name": "python",
   "nbconvert_exporter": "python",
   "pygments_lexer": "ipython3",
   "version": "3.7.6"
  }
 },
 "nbformat": 4,
 "nbformat_minor": 4
}
